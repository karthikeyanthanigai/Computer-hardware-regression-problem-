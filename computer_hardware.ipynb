{
  "nbformat": 4,
  "nbformat_minor": 0,
  "metadata": {
    "colab": {
      "name": "computer_hardware",
      "provenance": [],
      "authorship_tag": "ABX9TyPee4mJZNOUrTHXohyAmR1f",
      "include_colab_link": true
    },
    "kernelspec": {
      "name": "python3",
      "display_name": "Python 3"
    }
  },
  "cells": [
    {
      "cell_type": "markdown",
      "metadata": {
        "id": "view-in-github",
        "colab_type": "text"
      },
      "source": [
        "<a href=\"https://colab.research.google.com/github/karthikeyanthanigai/Computer-hardware-regression-problem-/blob/master/computer_hardware.ipynb\" target=\"_parent\"><img src=\"https://colab.research.google.com/assets/colab-badge.svg\" alt=\"Open In Colab\"/></a>"
      ]
    },
    {
      "cell_type": "code",
      "metadata": {
        "id": "wenvv1VAlbpu",
        "colab_type": "code",
        "colab": {}
      },
      "source": [
        "\n",
        "# Importing the libraries\n",
        "import numpy as np\n",
        "import pandas as pd\n",
        "import matplotlib.pyplot as plt"
      ],
      "execution_count": 0,
      "outputs": []
    },
    {
      "cell_type": "markdown",
      "metadata": {
        "id": "t0q2evRVl0cE",
        "colab_type": "text"
      },
      "source": [
        "![alt text](https://cdn.vox-cdn.com/thumbor/sp1WLmczQRPmkWK6mMlxu753cmI=/0x0:1246x838/1200x800/filters:focal(524x320:722x518)/cdn.vox-cdn.com/uploads/chorus_image/image/56839271/8th_Gen_Intel_Core_S_series_Chip.0.jpg)"
      ]
    },
    {
      "cell_type": "code",
      "metadata": {
        "id": "PSZgjT3llgSS",
        "colab_type": "code",
        "colab": {
          "base_uri": "https://localhost:8080/",
          "height": 297
        },
        "outputId": "e518b919-cbd6-44b0-b1d2-1bc426a34f94"
      },
      "source": [
        "# Importing the dataset\n",
        "dataset = pd.read_csv('computer_hardware_dataset.csv')\n",
        "#this function will provide the descriptive statistics of the dataset.(only int value)\n",
        "dataset.describe()"
      ],
      "execution_count": 2,
      "outputs": [
        {
          "output_type": "execute_result",
          "data": {
            "text/html": [
              "<div>\n",
              "<style scoped>\n",
              "    .dataframe tbody tr th:only-of-type {\n",
              "        vertical-align: middle;\n",
              "    }\n",
              "\n",
              "    .dataframe tbody tr th {\n",
              "        vertical-align: top;\n",
              "    }\n",
              "\n",
              "    .dataframe thead th {\n",
              "        text-align: right;\n",
              "    }\n",
              "</style>\n",
              "<table border=\"1\" class=\"dataframe\">\n",
              "  <thead>\n",
              "    <tr style=\"text-align: right;\">\n",
              "      <th></th>\n",
              "      <th>MYCT</th>\n",
              "      <th>MMIN</th>\n",
              "      <th>MMAX</th>\n",
              "      <th>CACH</th>\n",
              "      <th>CHMIN</th>\n",
              "      <th>CHMAX</th>\n",
              "      <th>PRP</th>\n",
              "      <th>ERP</th>\n",
              "    </tr>\n",
              "  </thead>\n",
              "  <tbody>\n",
              "    <tr>\n",
              "      <th>count</th>\n",
              "      <td>209.000000</td>\n",
              "      <td>209.000000</td>\n",
              "      <td>209.000000</td>\n",
              "      <td>209.000000</td>\n",
              "      <td>209.000000</td>\n",
              "      <td>209.000000</td>\n",
              "      <td>209.000000</td>\n",
              "      <td>209.000000</td>\n",
              "    </tr>\n",
              "    <tr>\n",
              "      <th>mean</th>\n",
              "      <td>203.822967</td>\n",
              "      <td>2867.980861</td>\n",
              "      <td>11796.153110</td>\n",
              "      <td>25.205742</td>\n",
              "      <td>4.698565</td>\n",
              "      <td>18.267943</td>\n",
              "      <td>105.622010</td>\n",
              "      <td>99.330144</td>\n",
              "    </tr>\n",
              "    <tr>\n",
              "      <th>std</th>\n",
              "      <td>260.262926</td>\n",
              "      <td>3878.742758</td>\n",
              "      <td>11726.564377</td>\n",
              "      <td>40.628722</td>\n",
              "      <td>6.816274</td>\n",
              "      <td>25.997318</td>\n",
              "      <td>160.830733</td>\n",
              "      <td>154.757102</td>\n",
              "    </tr>\n",
              "    <tr>\n",
              "      <th>min</th>\n",
              "      <td>17.000000</td>\n",
              "      <td>64.000000</td>\n",
              "      <td>64.000000</td>\n",
              "      <td>0.000000</td>\n",
              "      <td>0.000000</td>\n",
              "      <td>0.000000</td>\n",
              "      <td>6.000000</td>\n",
              "      <td>15.000000</td>\n",
              "    </tr>\n",
              "    <tr>\n",
              "      <th>25%</th>\n",
              "      <td>50.000000</td>\n",
              "      <td>768.000000</td>\n",
              "      <td>4000.000000</td>\n",
              "      <td>0.000000</td>\n",
              "      <td>1.000000</td>\n",
              "      <td>5.000000</td>\n",
              "      <td>27.000000</td>\n",
              "      <td>28.000000</td>\n",
              "    </tr>\n",
              "    <tr>\n",
              "      <th>50%</th>\n",
              "      <td>110.000000</td>\n",
              "      <td>2000.000000</td>\n",
              "      <td>8000.000000</td>\n",
              "      <td>8.000000</td>\n",
              "      <td>2.000000</td>\n",
              "      <td>8.000000</td>\n",
              "      <td>50.000000</td>\n",
              "      <td>45.000000</td>\n",
              "    </tr>\n",
              "    <tr>\n",
              "      <th>75%</th>\n",
              "      <td>225.000000</td>\n",
              "      <td>4000.000000</td>\n",
              "      <td>16000.000000</td>\n",
              "      <td>32.000000</td>\n",
              "      <td>6.000000</td>\n",
              "      <td>24.000000</td>\n",
              "      <td>113.000000</td>\n",
              "      <td>101.000000</td>\n",
              "    </tr>\n",
              "    <tr>\n",
              "      <th>max</th>\n",
              "      <td>1500.000000</td>\n",
              "      <td>32000.000000</td>\n",
              "      <td>64000.000000</td>\n",
              "      <td>256.000000</td>\n",
              "      <td>52.000000</td>\n",
              "      <td>176.000000</td>\n",
              "      <td>1150.000000</td>\n",
              "      <td>1238.000000</td>\n",
              "    </tr>\n",
              "  </tbody>\n",
              "</table>\n",
              "</div>"
            ],
            "text/plain": [
              "              MYCT          MMIN  ...          PRP          ERP\n",
              "count   209.000000    209.000000  ...   209.000000   209.000000\n",
              "mean    203.822967   2867.980861  ...   105.622010    99.330144\n",
              "std     260.262926   3878.742758  ...   160.830733   154.757102\n",
              "min      17.000000     64.000000  ...     6.000000    15.000000\n",
              "25%      50.000000    768.000000  ...    27.000000    28.000000\n",
              "50%     110.000000   2000.000000  ...    50.000000    45.000000\n",
              "75%     225.000000   4000.000000  ...   113.000000   101.000000\n",
              "max    1500.000000  32000.000000  ...  1150.000000  1238.000000\n",
              "\n",
              "[8 rows x 8 columns]"
            ]
          },
          "metadata": {
            "tags": []
          },
          "execution_count": 2
        }
      ]
    },
    {
      "cell_type": "code",
      "metadata": {
        "id": "6yaGumQblp3k",
        "colab_type": "code",
        "colab": {}
      },
      "source": [
        "#determine X and y variables(this values are taken as independent variables)\n",
        "X = dataset.iloc[:,[2,3,4,5,6,7,8]].values\n",
        "y = dataset.iloc[:, [-1]].values"
      ],
      "execution_count": 0,
      "outputs": []
    },
    {
      "cell_type": "code",
      "metadata": {
        "id": "RvA-iLtDlp1f",
        "colab_type": "code",
        "colab": {}
      },
      "source": [
        "#split\n",
        "from sklearn.model_selection import train_test_split\n",
        "X_train, X_test, y_train,y_test = train_test_split(X, y , test_size=0.2, random_state = 0, shuffle = True )\n"
      ],
      "execution_count": 0,
      "outputs": []
    },
    {
      "cell_type": "code",
      "metadata": {
        "id": "1Rdk7LBZlpzb",
        "colab_type": "code",
        "colab": {
          "base_uri": "https://localhost:8080/",
          "height": 190
        },
        "outputId": "aad85c46-79ec-4cca-ebdb-d4c7842b2c60"
      },
      "source": [
        "#Random forset regression\n",
        "from sklearn.ensemble import RandomForestRegressor\n",
        "regressor = RandomForestRegressor(n_estimators=300)\n",
        "regressor.fit(X_train,y_train)\n"
      ],
      "execution_count": 9,
      "outputs": [
        {
          "output_type": "stream",
          "text": [
            "/usr/local/lib/python3.6/dist-packages/ipykernel_launcher.py:4: DataConversionWarning: A column-vector y was passed when a 1d array was expected. Please change the shape of y to (n_samples,), for example using ravel().\n",
            "  after removing the cwd from sys.path.\n"
          ],
          "name": "stderr"
        },
        {
          "output_type": "execute_result",
          "data": {
            "text/plain": [
              "RandomForestRegressor(bootstrap=True, ccp_alpha=0.0, criterion='mse',\n",
              "                      max_depth=None, max_features='auto', max_leaf_nodes=None,\n",
              "                      max_samples=None, min_impurity_decrease=0.0,\n",
              "                      min_impurity_split=None, min_samples_leaf=1,\n",
              "                      min_samples_split=2, min_weight_fraction_leaf=0.0,\n",
              "                      n_estimators=300, n_jobs=None, oob_score=False,\n",
              "                      random_state=None, verbose=0, warm_start=False)"
            ]
          },
          "metadata": {
            "tags": []
          },
          "execution_count": 9
        }
      ]
    },
    {
      "cell_type": "code",
      "metadata": {
        "id": "SJ2gqn0Jlpvr",
        "colab_type": "code",
        "colab": {}
      },
      "source": [
        "#predict the test data\n",
        "y_pred = regressor.predict(X_test)\n"
      ],
      "execution_count": 0,
      "outputs": []
    },
    {
      "cell_type": "code",
      "metadata": {
        "id": "CXXInNRalpsq",
        "colab_type": "code",
        "colab": {
          "base_uri": "https://localhost:8080/",
          "height": 34
        },
        "outputId": "6e29417b-f964-4cee-e5c6-e6028bf7bbde"
      },
      "source": [
        "#r2score\n",
        "from sklearn.metrics import r2_score\n",
        "r_squared = r2_score(y_test, y_pred)\n",
        "print(r_squared)"
      ],
      "execution_count": 11,
      "outputs": [
        {
          "output_type": "stream",
          "text": [
            "0.9080122342355706\n"
          ],
          "name": "stdout"
        }
      ]
    },
    {
      "cell_type": "code",
      "metadata": {
        "id": "_-xaYIXUl9De",
        "colab_type": "code",
        "colab": {}
      },
      "source": [
        ""
      ],
      "execution_count": 0,
      "outputs": []
    }
  ]
}